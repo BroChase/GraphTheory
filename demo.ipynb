{
 "cells": [
  {
   "cell_type": "code",
   "execution_count": null,
   "metadata": {},
   "outputs": [],
   "source": [
    "from file_read import *\n",
    "from matrix_operations import *\n",
    "from matrix_graphs import *\n",
    "import matplotlib.pyplot as plt\n",
    "import pandas as pd"
   ]
  },
  {
   "cell_type": "code",
   "execution_count": null,
   "metadata": {},
   "outputs": [],
   "source": [
    "# opcodes: Extract the OpCodes associated with the ASM files\n",
    "# asm_file_seq: Generate the sequential set of OpCodes for each asm file.\n",
    "opcodes, asm_file_seq = get_opcodes()  # Read the Assembly Files\n",
    "opcode_list = opcodes_count(opcodes, asm_file_seq)  # Get the OpCode Lists\n",
    "matrix_list = to_matrix(opcode_list)  # Conver OpCodes to Adjacency Matrices"
   ]
  },
  {
   "cell_type": "code",
   "execution_count": null,
   "metadata": {},
   "outputs": [],
   "source": [
    "# Generate the graphs of each asm file: Printed are the \n",
    "graph_noiso = graph_adjacency(matrix_list, opcodes)"
   ]
  },
  {
   "cell_type": "code",
   "execution_count": null,
   "metadata": {},
   "outputs": [],
   "source": [
    "for i in graph_noiso:\n",
    "    nx.draw(i[0], pos=nx.shell_layout(i[0]), labels=i[1])\n",
    "    plt.show()"
   ]
  },
  {
   "cell_type": "code",
   "execution_count": null,
   "metadata": {},
   "outputs": [],
   "source": [
    "w_matrix = sequence_probabilities(matrix_list)"
   ]
  },
  {
   "cell_type": "code",
   "execution_count": null,
   "metadata": {},
   "outputs": [],
   "source": [
    "vt_vectors = power_iteration(w_matrix)\n",
    "vt_vectors"
   ]
  },
  {
   "cell_type": "code",
   "execution_count": null,
   "metadata": {},
   "outputs": [],
   "source": [
    "df1 = pd.DataFrame(vt_vectors)\n",
    "df1"
   ]
  },
  {
   "cell_type": "code",
   "execution_count": null,
   "metadata": {},
   "outputs": [],
   "source": []
  }
 ],
 "metadata": {
  "kernelspec": {
   "display_name": "Python 3",
   "language": "python",
   "name": "python3"
  },
  "language_info": {
   "codemirror_mode": {
    "name": "ipython",
    "version": 3
   },
   "file_extension": ".py",
   "mimetype": "text/x-python",
   "name": "python",
   "nbconvert_exporter": "python",
   "pygments_lexer": "ipython3",
   "version": "3.7.6"
  }
 },
 "nbformat": 4,
 "nbformat_minor": 4
}
